{
 "cells": [
  {
   "cell_type": "markdown",
   "metadata": {},
   "source": [
    "# LeetCode Problems & Solutions"
   ]
  },
  {
   "cell_type": "code",
   "execution_count": null,
   "metadata": {},
   "outputs": [],
   "source": [
    "# from itertools import combinations\n",
    "import numpy as np\n",
    "def minimumAbsDifference(arr):\n",
    "    comb = combinations(arr, 2)\n",
    "    comb_list = []\n",
    "    diff = []\n",
    "    for item in list(comb): \n",
    "        diff.append(abs(item[0]-item[1]))\n",
    "        comb_list.append(list(item))\n",
    "    \n",
    "    indices = [i for i, x in enumerate(diff) if x == min(diff)]\n",
    "    \n",
    "    res = []\n",
    "    for index in indices:\n",
    "        res.append(sorted(comb_list[index]))\n",
    "    \n",
    "    return(res)\n"
   ]
  },
  {
   "cell_type": "code",
   "execution_count": 5,
   "metadata": {},
   "outputs": [],
   "source": []
  },
  {
   "cell_type": "code",
   "execution_count": 14,
   "metadata": {},
   "outputs": [],
   "source": [
    "##### Reverse Words in a String III\n",
    "## Given a string, you need to reverse the order of characters in each word within a sentence \n",
    "## while still preserving whitespace and initial word order.\n",
    "\n",
    "## Example 1:\n",
    "## Input: \"Let's take LeetCode contest\"\n",
    "## Output: \"s'teL ekat edoCteeL tsetnoc\"\n",
    "## Note: In the string, each word is separated by single space and there will not be any extra space in the string.\n",
    "\n",
    "def reverseWords(s):\n",
    "    res = \"\"\n",
    "    s = s.split()\n",
    "    for i in s:\n",
    "        res += i[::-1] + \" \"\n",
    "    return(res[0:len(res)-1])\n",
    "\n",
    "s = \"Let's take LeetCode contest\"\n",
    "reverseWords(s)"
   ]
  },
  {
   "cell_type": "code",
   "execution_count": 63,
   "metadata": {},
   "outputs": [
    {
     "data": {
      "text/plain": [
       "['sour', 'sweet']"
      ]
     },
     "execution_count": 63,
     "metadata": {},
     "output_type": "execute_result"
    }
   ],
   "source": [
    "##### 884. Uncommon Words from Two Sentences\n",
    "\n",
    "## We are given two sentences A and B. \n",
    "## (A sentence is a string of space separated words. Each word consists only of lowercase letters.)\n",
    "## A word is uncommon if it appears exactly once in one of the sentences, and does not appear in the other sentence.\n",
    "## Return a list of all uncommon words. \n",
    "## You may return the list in any order.\n",
    "\n",
    "## Example 1:\n",
    "## Input: A = \"this apple is sweet\", B = \"this apple is sour\"\n",
    "## Output: [\"sweet\",\"sour\"]\n",
    "\n",
    "def uncommonFromSentences(A, B):\n",
    "    A = A.split(\" \")\n",
    "    B = B.split(\" \")\n",
    "\n",
    "    unique = list(set(A + B))\n",
    "    count = {key:[0, 0] for key in unique}\n",
    "    for item in count:\n",
    "        occurs_A = [index for index, val in enumerate(A) if val == item]\n",
    "        count[item][0] = len(occurs_A)\n",
    "        occurs_B = [index for index, val in enumerate(B) if val == item]\n",
    "        count[item][1] = len(occurs_B)\n",
    "\n",
    "    res = []\n",
    "    for item in count:\n",
    "        if sum(count[item]) == 1:\n",
    "            res.append(item)\n",
    "            \n",
    "    return(res)\n",
    "\n",
    "A = \"this apple is sweet\"\n",
    "B = \"this apple is sour\"\n",
    "uncommonFromSentences(A, B)"
   ]
  }
 ],
 "metadata": {
  "kernelspec": {
   "display_name": "Python 3",
   "language": "python",
   "name": "python3"
  },
  "language_info": {
   "codemirror_mode": {
    "name": "ipython",
    "version": 3
   },
   "file_extension": ".py",
   "mimetype": "text/x-python",
   "name": "python",
   "nbconvert_exporter": "python",
   "pygments_lexer": "ipython3",
   "version": "3.7.3"
  }
 },
 "nbformat": 4,
 "nbformat_minor": 2
}
