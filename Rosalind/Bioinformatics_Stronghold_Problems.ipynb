{
 "cells": [
  {
   "cell_type": "markdown",
   "metadata": {},
   "source": [
    "# Bioinformatics Stronghold"
   ]
  },
  {
   "cell_type": "code",
   "execution_count": 42,
   "metadata": {},
   "outputs": [],
   "source": [
    "##### Problem 1: Counting DNA Nucleotides\n",
    "## Given: A DNA string s of length at most 1000 nt.\n",
    "## Return: Four integers (separated by spaces) counting the respective number \n",
    "## of times that the symbols 'A', 'C', 'G', and 'T' occur in s.\n",
    "\n",
    "def CountBase(s):\n",
    "    res = {base:0 for base in ['A', 'C', 'G', 'T']}\n",
    "    for letter in s:\n",
    "        res[letter] += 1\n",
    "    for val in res.values():\n",
    "        print(val, end = \" \")\n",
    "\n",
    "s = \"TAGATTACTATTTCGGTTGTACAACCTCGGGAGAATGTGCGGCAGCTCCAGGTAAAGAGTAGACAGACTTTGGCTCTCTAAGGGCACCTCAGCTGATGGGCACGTAACTAACGATAGACGCAGTCTACCTACAGGAGCTTTACGGACATAACCAATTCTCTATGGCGATTGAGTCTTCGCATTGTGAACCATTCCACTCGCAGGGCGTAGCTCCTGAAGAACGTACTTAGCTAAAAGTTAGGATGACTCGATTTTACATTGAAAGCCCTTTAAGCATTCGGAGCGTCTAGTTCTCCTTTTCTGTGGCTACTATTCGCTAGGGGCGCGGAACCCTCCGTCGCCCGTTGATGAACAAAATCAATTGCATAATTAAGTTTGTAGGCACTCTAGTGTCACTATTGGACGCAAGAGCCTGCACCCAATTTGGGAACTGCATGCGTACACATTGCTAGATACTCATCATATGATACTTATATAGTCGAGACCATTTCACGTTCAACTATTAATTAGTGAGTTGAAGAATTACTTTGCTGGATGTCTGCGAAGATTCCCTAAATATCATTAAATTATGACGTTTTGAGGCGTAGCGACATGGTTTATCAGGCCGATACGTTCGTAATTAGAGAGTCTCCAATAGCGACCCTCTGCGGAGAGAAGATATCTTCGCGGACAAGATCCAAGGTACCTGTCAAAATATTCATCGACGGGGAGAGACTTCCGCTCTGATGTAAAAACGCCCGGTTAGATCGGTCTCGGTGGCAGTAAACGATTATGTTGCTGCCTCTCTCTTGACTCCTGAAGTGGTCTACTTTGGTAGAACGTTAGGAGTTGGCATCAGTTGATCATAACTGGGTCATACTTTGTTGCGAGCGGACATCCTTAGTGCAAGAGCTGATACTACCCAGTATAACCATAAGTGAGGTACAGATTGCTGCGTTTTAGGTCTAGGGTCTACGAACCCGTCTGCCGTTG\"\n",
    "CountBase(s)"
   ]
  },
  {
   "cell_type": "code",
   "execution_count": null,
   "metadata": {},
   "outputs": [],
   "source": [
    "# Problem 2: Transcribing DNA into RNA\n",
    "## An RNA string is a string formed from the alphabet containing 'A', 'C', 'G', and 'U'.\n",
    "## Given a DNA string t corresponding to a coding strand, \n",
    "## its transcribed RNA string u is formed by replacing all occurrences of 'T' in t with 'U' in u.\n",
    "\n",
    "## Given: A DNA string t having length at most 1000 nt.\n",
    "## Return: The transcribed RNA string of t.\n",
    "\n",
    "def TranscribedRNA(t):\n",
    "    return(t.replace(\"T\", \"U\"))\n",
    "\n",
    "t = \"ACCTGACCTGTAAGGGAGTGGCGTACTCTTAAGCCTTGGTGTCGACTATAGCGACAAGAATGTGGTGAGCCTCGGCTGTCACTACTGTGCTGACTATAGTCCGTAAATCGCTTCTAACCACCACTAGTGCCGTATCTAAAATTCGAGCCGTAATTCTCCGTTCGGTAGCTTCGCCCAGCATGATTCTATTAGGCTGTGGCCCAACGCACTGACCCTATTAAGTGGGTGTACGACAACTCAAACGTGCCAGTCGGTATCTGGTCCTCCAGAAGCTCGCCGCGCTGGCAGGGGCGTACTGCTACCTGCCCTGGTTAGTTTGCCTCGGTATCTTGTCCAGGACAGTACTTTGCGGCAGACTTAATCTGTAATGGTGTAATTGTCGCCTATCTCTGGGGCAATCTGGTGAGTGGTTACGATGATGGGGCTTGCAGCGGGATGTATCAAGTTCGGCGGAAGTTTGTAGGAATAGAGATAGGCACTTTTTTTTTGGCTCAGACCGAGGTAGGCTGCGAAGTGCAGAACGTAAGACGCAACTAGCAGCTGGTATAGTTCGGATCGGGCCCAAGAAGGTCCTTGCGCTTGTTTATTTGATCCGAGCAAATGCGTGGTGCCCAGTCGTGTGACCTAGCCATTAGCTTTCACATAAGGTTGGTCCATTTATAGAGTCATGGCACCTGGTATTTCGATCTGTCGGCAGCGCAAAGCATGCTCGTTACCGTTTCGAACAAATGAAGAACCAGAAGAGCGCCATCGGTTGCTGGACCCAGCAAATACCCCATTAGCTTAACGGTGGTAATAATGGCATAAGGGAGGACACGGGCGGCACTACTGATATGCAATTCAAATACTTGGTCAGGGCACTCACCACTGCAGTCTGTCTCGGACTCCGGATGTTTTACAGGGGGAGGTACTAATTACAAAAGATAGCCGTATGGACACCCTTGCAGTACTAGTCCACGCTCAGGGAACTACTGCGTCTCTCAGGCAGCCACGCCCTT\"\n",
    "TranscribedRNA(t)"
   ]
  },
  {
   "cell_type": "code",
   "execution_count": 24,
   "metadata": {
    "scrolled": false
   },
   "outputs": [
    {
     "data": {
      "text/plain": [
       "'CCGTCTTAACAGAATTGTATTCGTATTGTAGTAAATGTCCCTAGAGTAATGTAACGTTCGTCCTATGCACATCAGCTGGGATGATTCACCTTAAAAATAGGCCGACGTAAGGAGGAATACCCGACTGGGGACAGTTAAAAAACGGATAACTCAGAGGGTAAGTAAGGTCACCGCCTTATGGAGCCAATCAAACGGTCACATGTGTCATCTCAGAGCGACTTGCATCGGAGACGGGAAAGAGGAGACACCTGGCCCACATGTTGAGGATTCGACGGAAAGTAGTGTCGGGCTAAAACTGCGACTACAACCACATCCAGCTCTTTATGGATCTAGGACCATAGTTGCTGGCCTGTTAGACTTATGTCCACGTCAGACTTCGGGACTGTTGCACCGAAGGCCCATAGCTGCGGGATACACTTGGTCACCGGATAGCTCCAACGAAAGTCTTCCGACTGTAGTGCTAATAGAGTGCCTCTAAGCTTCCGATTATCACGGCCGTCAGCGTGGGAGATCTTGAACCTTCTGGAACAACAACTAGGGGGGTTCTTACGGCATGGTCTCCCGCATATTGTTGTAAAACTAGTCATAGAGACTCTAAGGCTTTCGCAACCGTACCGCATCATAGTAAGGAGAGGGAGGTCGGATTCACTATCGGAACTAGCGCGCTAGTCACCAATTGACCGATCATCGTTGCACCCTACCACTCATTTAAGAAGTTCAATAGATCTGCCGTAGACTTCGCAAACCCTTCCCTCTCGACGCGCGGTGTTTGTTACCCAAAGTATGTTGACTTGCCGCGGGCAGACGACGGAACCTGGGGTGTGTTATTACCCTGTCTCAGAGCGATCCGGGCCCTTCACTTATTATTCTATAATCACGTGCGGATGGAAACACTTCCGCAGCGGGACATATCTCTCGCCCACTGCATAATATGACACCGTTAACTCCAAACA'"
      ]
     },
     "execution_count": 24,
     "metadata": {},
     "output_type": "execute_result"
    }
   ],
   "source": [
    "##### Problem 3: Complementing a Strand of DNA\n",
    "## In DNA strings, symbols 'A' and 'T' are complements of each other, as are 'C' and 'G'.\n",
    "## The reverse complement of a DNA string s is the string sc formed by reversing the symbols of s, \n",
    "## then taking the complement of each symbol (e.g., the reverse complement of \"GTCA\" is \"TGAC\").\n",
    "\n",
    "## Given: A DNA string s of length at most 1000 bp.\n",
    "## Return: The reverse complement sc of s.\n",
    "def ReverseComplementDNA(s):\n",
    "    sr = s[::-1]\n",
    "    sc = sr.replace('A','t').replace('T','a').replace('G','c').replace('C','g').upper()\n",
    "    return(sc)\n",
    "    \n",
    "\n",
    "s = \"TGTTTGGAGTTAACGGTGTCATATTATGCAGTGGGCGAGAGATATGTCCCGCTGCGGAAGTGTTTCCATCCGCACGTGATTATAGAATAATAAGTGAAGGGCCCGGATCGCTCTGAGACAGGGTAATAACACACCCCAGGTTCCGTCGTCTGCCCGCGGCAAGTCAACATACTTTGGGTAACAAACACCGCGCGTCGAGAGGGAAGGGTTTGCGAAGTCTACGGCAGATCTATTGAACTTCTTAAATGAGTGGTAGGGTGCAACGATGATCGGTCAATTGGTGACTAGCGCGCTAGTTCCGATAGTGAATCCGACCTCCCTCTCCTTACTATGATGCGGTACGGTTGCGAAAGCCTTAGAGTCTCTATGACTAGTTTTACAACAATATGCGGGAGACCATGCCGTAAGAACCCCCCTAGTTGTTGTTCCAGAAGGTTCAAGATCTCCCACGCTGACGGCCGTGATAATCGGAAGCTTAGAGGCACTCTATTAGCACTACAGTCGGAAGACTTTCGTTGGAGCTATCCGGTGACCAAGTGTATCCCGCAGCTATGGGCCTTCGGTGCAACAGTCCCGAAGTCTGACGTGGACATAAGTCTAACAGGCCAGCAACTATGGTCCTAGATCCATAAAGAGCTGGATGTGGTTGTAGTCGCAGTTTTAGCCCGACACTACTTTCCGTCGAATCCTCAACATGTGGGCCAGGTGTCTCCTCTTTCCCGTCTCCGATGCAAGTCGCTCTGAGATGACACATGTGACCGTTTGATTGGCTCCATAAGGCGGTGACCTTACTTACCCTCTGAGTTATCCGTTTTTTAACTGTCCCCAGTCGGGTATTCCTCCTTACGTCGGCCTATTTTTAAGGTGAATCATCCCAGCTGATGTGCATAGGACGAACGTTACATTACTCTAGGGACATTTACTACAATACGAATACAATTCTGTTAAGACGG\"\n",
    "ReverseComplementDNA(s)\n"
   ]
  },
  {
   "cell_type": "code",
   "execution_count": 9,
   "metadata": {},
   "outputs": [],
   "source": [
    "##### Problem 4: Rabbits and Recurrence Relations\n",
    "## Given: Positive integers n≤40 and k≤5.\n",
    "## Return: The total number of rabbit pairs that will be present after n months, \n",
    "## if we begin with 1 pair and in each generation, \n",
    "## every pair of reproduction-age rabbits produces a litter of k rabbit pairs (instead of only 1 pair)."
   ]
  },
  {
   "cell_type": "code",
   "execution_count": 23,
   "metadata": {},
   "outputs": [
    {
     "name": "stdout",
     "output_type": "stream",
     "text": [
      "Rosalind_6404\n",
      "0.531\n",
      "Rosalind_5959\n",
      "0.529\n",
      "Rosalind_5959\n",
      "0.529\n"
     ]
    }
   ],
   "source": [
    "##### Problem 5: Computing GC Content\n",
    "## Given: At most 10 DNA strings in FASTA format (of length at most 1 kbp each).\n",
    "## Return: The ID of the string having the highest GC-content, followed by the GC-content of that string. \n",
    "## Rosalind allows for a default error of 0.001 in all decimal answers unless otherwise stated; please see the note on absolute error below.\n",
    "\n",
    "with open(\"fasta.txt\", \"r\") as file:\n",
    "    lines = file.readlines()\n",
    "    res = {}\n",
    "for i in range(0, len(lines), 2):\n",
    "    ID = lines[i].replace(\">\", \"\").replace(\"\\n\", \"\")\n",
    "    sequence = lines[i+1]\n",
    "    sequence = sequence.replace(\"G\", \"k\").replace(\"C\", \"k\")\n",
    "    GC_occurs = [index for index, val in enumerate(sequence) if val == \"k\"]\n",
    "    GC_percent = len(GC_occurs)/len(sequence)\n",
    "    res[ID] = round(GC_percent, 3)\n",
    "    \n",
    "    # min(res.values())\n",
    "    # min(res, key = res.get)\n",
    "    for key, val in res.items():\n",
    "        if val == min(res.values()):\n",
    "            print(key)\n",
    "            print(val)\n",
    "        \n"
   ]
  },
  {
   "cell_type": "code",
   "execution_count": 34,
   "metadata": {},
   "outputs": [
    {
     "name": "stdout",
     "output_type": "stream",
     "text": [
      "Rosalind_2640\n",
      "0.469681\n"
     ]
    }
   ],
   "source": [
    "with open(\"rosalind_gc.txt\", \"r\") as file:\n",
    "    lines = file.readlines()\n",
    "    res = {}\n",
    "for i in range(0, len(lines), 2):\n",
    "    ID = lines[i].replace(\">\", \"\").replace(\"\\n\", \"\")\n",
    "    sequence = lines[i+1]\n",
    "    sequence = sequence.replace(\"G\", \"k\").replace(\"C\", \"k\")\n",
    "    GC_occurs = [index for index, val in enumerate(sequence) if val == \"k\"]\n",
    "    GC_percent = len(GC_occurs)/len(sequence)\n",
    "    res[ID] = round(GC_percent, 6)\n",
    "    \n",
    "    # min(res.values())\n",
    "    # min(res, key = res.get)\n",
    "for key, val in res.items():\n",
    "    if val == min(res.values()):\n",
    "        print(key)\n",
    "        print(val)"
   ]
  },
  {
   "cell_type": "code",
   "execution_count": null,
   "metadata": {},
   "outputs": [],
   "source": []
  },
  {
   "cell_type": "code",
   "execution_count": null,
   "metadata": {},
   "outputs": [],
   "source": []
  },
  {
   "cell_type": "code",
   "execution_count": null,
   "metadata": {},
   "outputs": [],
   "source": []
  },
  {
   "cell_type": "code",
   "execution_count": null,
   "metadata": {},
   "outputs": [],
   "source": []
  },
  {
   "cell_type": "code",
   "execution_count": null,
   "metadata": {},
   "outputs": [],
   "source": []
  }
 ],
 "metadata": {
  "kernelspec": {
   "display_name": "Python 3",
   "language": "python",
   "name": "python3"
  },
  "language_info": {
   "codemirror_mode": {
    "name": "ipython",
    "version": 3
   },
   "file_extension": ".py",
   "mimetype": "text/x-python",
   "name": "python",
   "nbconvert_exporter": "python",
   "pygments_lexer": "ipython3",
   "version": "3.7.3"
  }
 },
 "nbformat": 4,
 "nbformat_minor": 2
}
