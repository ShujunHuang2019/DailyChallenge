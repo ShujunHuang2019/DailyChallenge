{
 "cells": [
  {
   "cell_type": "markdown",
   "metadata": {},
   "source": [
    "# Python Village"
   ]
  },
  {
   "cell_type": "code",
   "execution_count": null,
   "metadata": {},
   "outputs": [],
   "source": [
    "##### Problem\n",
    "# Given: Two positive integers a and b, each less than 1000.\n",
    "# Return: The integer corresponding to the square of the hypotenuse of the right triangle whose legs have lengths a and b.\n",
    "\n",
    "def HypotenuseOfRgihtTriangle(a, b):\n",
    "    return(a**2 + b**2)\n",
    "\n",
    "HypotenuseOfRgihtTriangle(822, 818)"
   ]
  },
  {
   "cell_type": "code",
   "execution_count": null,
   "metadata": {},
   "outputs": [],
   "source": [
    "##### Problem\n",
    "# Given: A string s of length at most 200 letters and four integers a, b, c and d.\n",
    "# Return: The slice of this string from indices a through b and c through d (with space in between), inclusively. \n",
    "# In other words, we should include elements s[b] and s[d] in our slice.\n",
    "\n",
    "def StringSlice(s, a, b, c, d):\n",
    "    return s[a:b+1] + \" \" + s[c:d+1]\n",
    "\n",
    "# s, a, b, c, d = \"HumptyDumptysatonawallHumptyDumptyhadagreatfallAlltheKingshorsesandalltheKingsmenCouldntputHumptyDumptyinhisplaceagain.\", 22, 27, 97, 102\n",
    "s, a, b, c, d = \"IExPlgBPipIQttwEv6UzyQpRo17xH2Us88lPcwRwanCyclagrascQC6ue1Y5K553IwWy2nqawpsOJLdDqZAqT7NmECvOgInzY2n70LliatqutfTYlro81tX57NVf4k5CQuXWdnmMCiLmgYsfqjwuCTIJOygmbLEfCBcHpapuanaqaC9u5D9JJFzhXm.\", 42, 50, 164, 170\n",
    "StringSlice(s, a, b, c, d)"
   ]
  },
  {
   "cell_type": "code",
   "execution_count": null,
   "metadata": {},
   "outputs": [],
   "source": [
    "##### Problem\n",
    "# Given: Two positive integers a and b (a<b<10000).\n",
    "# Return: The sum of all odd integers from a through b, inclusively.\n",
    "\n",
    "def SumOfOdds(a, b):\n",
    "    sum = 0\n",
    "    for i in range(a, b+1):\n",
    "        if i % 2 != 0:\n",
    "      # if i % 2 == 1\n",
    "            sum += i\n",
    "    return sum\n",
    "\n",
    "SumOfOdds(4316, 9078)"
   ]
  },
  {
   "cell_type": "code",
   "execution_count": null,
   "metadata": {},
   "outputs": [],
   "source": [
    "##### Problem\n",
    "## Given: A file containing at most 1000 lines.\n",
    "## Return: A file containing all the even-numbered lines from the original file. Assume 1-based numbering of lines.\n",
    "\n",
    "def EvenNumberedLines(file):\n",
    "    f = open(file, \"r\")\n",
    "    f_res = open(\"new_file.txt\", \"w\")\n",
    "    \n",
    "    lines = f.readlines()\n",
    "    for i in range(1, len(lines), 2):\n",
    "        f_res.write(lines[i])\n",
    "    \n",
    "    f.close()\n",
    "    f_res.close()\n",
    "\n",
    "file = \"file.txt\"\n",
    "EvenNumberedLines(file)"
   ]
  },
  {
   "cell_type": "code",
   "execution_count": 4,
   "metadata": {},
   "outputs": [
    {
     "data": {
      "text/plain": [
       "1344808"
      ]
     },
     "execution_count": 4,
     "metadata": {},
     "output_type": "execute_result"
    }
   ],
   "source": [
    "##### Problem\n",
    "## Given: A string s of length at most 10000 letters.\n",
    "## Return: The number of occurrences of each word in s, where words are separated by spaces. \n",
    "## Words are case-sensitive, and the lines in the output can be in any order.\n",
    "\n",
    "def CountWords(s):\n",
    "    s = s.split()\n",
    "    res = {word:0 for word in set(s)}\n",
    "    for word in s:\n",
    "        res[word] += 1\n",
    "    for key, val in res.items():\n",
    "        print(\"%s %d\" % (key, val))\n",
    "        \n",
    "s = \"When I find myself in times of trouble Mother Mary comes to me Speaking words of wisdom let it be And in my hour of darkness she is standing right in front of me Speaking words of wisdom let it be Let it be let it be let it be let it be Whisper words of wisdom let it be And when the broken hearted people living in the world agree There will be an answer let it be For though they may be parted there is still a chance that they will see There will be an answer let it be Let it be let it be let it be let it be There will be an answer let it be Let it be let it be let it be let it be Whisper words of wisdom let it be Let it be let it be let it be let it be Whisper words of wisdom let it be And when the night is cloudy there is still a light that shines on me Shine until tomorrow let it be I wake up to the sound of music Mother Mary comes to me Speaking words of wisdom let it be Let it be let it be let it be yeah let it be There will be an answer let it be Let it be let it be let it be yeah let it be Whisper words of wisdom let it be\"\n",
    "CountWords(s)  "
   ]
  }
 ],
 "metadata": {
  "kernelspec": {
   "display_name": "Python 3",
   "language": "python",
   "name": "python3"
  },
  "language_info": {
   "codemirror_mode": {
    "name": "ipython",
    "version": 3
   },
   "file_extension": ".py",
   "mimetype": "text/x-python",
   "name": "python",
   "nbconvert_exporter": "python",
   "pygments_lexer": "ipython3",
   "version": "3.7.3"
  }
 },
 "nbformat": 4,
 "nbformat_minor": 2
}
