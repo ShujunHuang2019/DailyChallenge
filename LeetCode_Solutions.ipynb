{
 "cells": [
  {
   "cell_type": "markdown",
   "metadata": {},
   "source": [
    "# LeetCode Problems & Solutions"
   ]
  },
  {
   "cell_type": "code",
   "execution_count": 32,
   "metadata": {},
   "outputs": [
    {
     "data": {
      "text/plain": [
       "[0, 1]"
      ]
     },
     "execution_count": 32,
     "metadata": {},
     "output_type": "execute_result"
    }
   ],
   "source": [
    "##### 1. Two Sum\n",
    "## Given an array of integers, return indices of the two numbers such that they add up to a specific target.\n",
    "## You may assume that each input would have exactly one solution, and you may not use the same element twice.\n",
    "\n",
    "## Example:\n",
    "## Given nums = [2, 7, 11, 15], target = 9,\n",
    "## Because nums[0] + nums[1] = 2 + 7 = 9, return [0, 1].\n",
    "\n",
    "def twoSum(nums, target):\n",
    "    for index1 in range(len(nums)):\n",
    "        for index2 in range(index1 + 1, len(nums)):\n",
    "            if nums[index1] + nums[index2] == target:\n",
    "                return[index1, index2]\n",
    "            \n",
    "nums = [2, 7, 11, 15]\n",
    "target = 9\n",
    "twoSum(nums, target)"
   ]
  },
  {
   "cell_type": "code",
   "execution_count": 30,
   "metadata": {},
   "outputs": [
    {
     "data": {
      "text/plain": [
       "321"
      ]
     },
     "execution_count": 30,
     "metadata": {},
     "output_type": "execute_result"
    }
   ],
   "source": [
    "##### 7. Reverse Integer\n",
    "## Given a 32-bit signed integer, reverse digits of an integer.\n",
    "\n",
    "## Example 1:\n",
    "## Input: 123\n",
    "## Output: 321\n",
    "\n",
    "def reverse(x):\n",
    "    def is_valid(num):\n",
    "        return -1 * 2**31 <= num <= 2**31 - 1\n",
    "    \n",
    "    is_negative = x < 0\n",
    "    x = abs(x)\n",
    "        \n",
    "    res = 0\n",
    "    while x:\n",
    "        x, remainder = divmod(x, 10)\n",
    "        res = 10 * res + remainder\n",
    "        \n",
    "    res = -1 * res if is_negative else res\n",
    "        \n",
    "    return(res if is_valid(res) else 0)\n",
    "\n",
    "x = 123\n",
    "reverse(x)"
   ]
  },
  {
   "cell_type": "code",
   "execution_count": 37,
   "metadata": {},
   "outputs": [
    {
     "data": {
      "text/plain": [
       "True"
      ]
     },
     "execution_count": 37,
     "metadata": {},
     "output_type": "execute_result"
    }
   ],
   "source": [
    "##### 9. Palindrome Number\n",
    "## Determine whether an integer is a palindrome. \n",
    "## An integer is a palindrome when it reads the same backward as forward.\n",
    "\n",
    "## Example 1:\n",
    "## Input: 121\n",
    "## Output: true\n",
    "\n",
    "def isPalindrome(x):\n",
    "    if x >= 0:\n",
    "        if str(x)[::-1] == str(x):\n",
    "            return(True)\n",
    "        else:\n",
    "            return(False)           \n",
    "    else:\n",
    "        return(False)\n",
    "    \n",
    "x = 121\n",
    "isPalindrome(x)"
   ]
  },
  {
   "cell_type": "code",
   "execution_count": 14,
   "metadata": {},
   "outputs": [
    {
     "data": {
      "text/plain": [
       "49"
      ]
     },
     "execution_count": 14,
     "metadata": {},
     "output_type": "execute_result"
    }
   ],
   "source": [
    "##### 11. Container With Most Water\n",
    "## Medium\n",
    "\n",
    "## Given n non-negative integers a1, a2, ..., an , \n",
    "## where each represents a point at coordinate (i, ai). \n",
    "## n vertical lines are drawn such that the two endpoints of line i is at (i, ai) and (i, 0). \n",
    "## Find two lines, which together with x-axis forms a container, such that the container contains the most water.\n",
    "## Note: You may not slant the container and n is at least 2.\n",
    "\n",
    "## Example:\n",
    "## Input: [1,8,6,2,5,4,8,3,7]\n",
    "## Output: 49\n",
    "\n",
    "def maxArea(height):\n",
    "    start = 0\n",
    "    end = len(height) - 1\n",
    "    max_area = 0\n",
    "\n",
    "    while start < end:\n",
    "        width = end - start\n",
    "        length = min(height[start], height[end])\n",
    "        area = width * length\n",
    "    \n",
    "        if area > max_area:\n",
    "            max_area = area\n",
    "        \n",
    "        if height[start] > height[end]:\n",
    "            end -= 1\n",
    "        else:\n",
    "            start += 1\n",
    "    return(max_area)\n",
    "\n",
    "height = [1,8,6,2,5,4,8,3,7]\n",
    "maxArea(height)"
   ]
  },
  {
   "cell_type": "code",
   "execution_count": 28,
   "metadata": {},
   "outputs": [
    {
     "data": {
      "text/plain": [
       "'fl'"
      ]
     },
     "execution_count": 28,
     "metadata": {},
     "output_type": "execute_result"
    }
   ],
   "source": [
    "##### 14. Longest Common Prefix\n",
    "## Write a function to find the longest common prefix string amongst an array of strings.\n",
    "## If there is no common prefix, return an empty string \"\".\n",
    "\n",
    "## Example 1:\n",
    "## Input: [\"flower\",\"flow\",\"flight\"]\n",
    "## Output: \"fl\"\n",
    "\n",
    "def longestCommonPrefix(strs):\n",
    "    if len(strs) == 0:\n",
    "        return(\"\")\n",
    "        \n",
    "    min_len = min([len(x) for x in strs])\n",
    "    res = \"\"\n",
    "    for i in range(min_len):\n",
    "        com = []\n",
    "        for j in strs:\n",
    "            com.append(j[i])\n",
    "        if len(set(com)) == 1:\n",
    "            res += com[0]\n",
    "        else:\n",
    "            break\n",
    "    return(res)\n",
    "\n",
    "strs = [\"flower\",\"flow\",\"flight\"]\n",
    "longestCommonPrefix(strs)\n"
   ]
  },
  {
   "cell_type": "code",
   "execution_count": 18,
   "metadata": {},
   "outputs": [
    {
     "data": {
      "text/plain": [
       "True"
      ]
     },
     "execution_count": 18,
     "metadata": {},
     "output_type": "execute_result"
    }
   ],
   "source": [
    "##### 20. Valid Parentheses\n",
    "## Given a string containing just the characters '(', ')', '{', '}', '[' and ']', determine if the input string is valid.\n",
    "## An input string is valid if:\n",
    "## Open brackets must be closed by the same type of brackets.\n",
    "## Open brackets must be closed in the correct order.\n",
    "## Note that an empty string is also considered valid.\n",
    "\n",
    "## Example 1:\n",
    "## Input: \"()\"\n",
    "## Output: true\n",
    "\n",
    "def isValid(s):\n",
    "    \"\"\"\"\n",
    "    s: a string containing just the characters '(', ')', '{', '}', '[' and ']'\n",
    "    \"\"\"\n",
    "    while \"()\" in s or \"{}\" in s or '[]' in s:\n",
    "        s = s.replace(\"()\", \"\").replace('{}', \"\").replace('[]', \"\")\n",
    "    return(s == '')\n",
    "\n",
    "\n",
    "\n",
    "s = \"{()[]}\"\n",
    "isValid(s)"
   ]
  },
  {
   "cell_type": "code",
   "execution_count": 8,
   "metadata": {},
   "outputs": [
    {
     "data": {
      "text/plain": [
       "5"
      ]
     },
     "execution_count": 8,
     "metadata": {},
     "output_type": "execute_result"
    }
   ],
   "source": [
    "##### 26. Remove Duplicates from Sorted Array\n",
    "## Given a sorted array nums, remove the duplicates in-place such that each element appear only once and return the new length.\n",
    "## Do not allocate extra space for another array, you must do this by modifying the input array in-place with O(1) extra memory.\n",
    "\n",
    "## Example 1:\n",
    "## Given nums = [1,1,2],\n",
    "## Your function should return length = 2, with the first two elements of nums being 1 and 2 respectively.\n",
    "## It doesn't matter what you leave beyond the returned length.\n",
    "def removeDuplicates(nums):\n",
    "    n = len(nums)        \n",
    "    if(n < 2):\n",
    "        return n\n",
    "    \n",
    "    i = 0\n",
    "    for j in range(1, n):\n",
    "        if(nums[i] != nums[j]):\n",
    "            i += 1\n",
    "            nums[i] = nums[j]\n",
    "            \n",
    "    return(i+1)\n",
    "\n",
    "# nums = [1,1,2]\n",
    "nums = [0,0,1,1,1,2,2,3,3,4]\n",
    "removeDuplicates(nums)"
   ]
  },
  {
   "cell_type": "code",
   "execution_count": 16,
   "metadata": {},
   "outputs": [
    {
     "data": {
      "text/plain": [
       "5"
      ]
     },
     "execution_count": 16,
     "metadata": {},
     "output_type": "execute_result"
    }
   ],
   "source": [
    "##### 27. Remove Element\n",
    "## Given an array nums and a value val, remove all instances of that value in-place and return the new length.\n",
    "## Do not allocate extra space for another array, you must do this by modifying the input array in-place with O(1) extra memory.\n",
    "## The order of elements can be changed. It doesn't matter what you leave beyond the new length.\n",
    "\n",
    "## Example 1:\n",
    "## Given nums = [3,2,2,3], val = 3,\n",
    "## Your function should return length = 2, with the first two elements of nums being 2.\n",
    "## It doesn't matter what you leave beyond the returned length.\n",
    "\n",
    "def removeElement(nums, val):\n",
    "    count = nums.count(val)\n",
    "    for i in range(count):\n",
    "        nums.remove(val)\n",
    "    return(len(nums))\n",
    "\n",
    "## nums = [3,2,2,3]\n",
    "## val = 3\n",
    "nums = [0,1,2,2,3,0,4,2]\n",
    "val = 2\n",
    "removeElement(nums, val)"
   ]
  },
  {
   "cell_type": "code",
   "execution_count": 87,
   "metadata": {},
   "outputs": [
    {
     "data": {
      "text/plain": [
       "1"
      ]
     },
     "execution_count": 87,
     "metadata": {},
     "output_type": "execute_result"
    }
   ],
   "source": [
    "##### 35. Search Insert Position\n",
    "## Given a sorted array and a target value, return the index if the target is found. \n",
    "## If not, return the index where it would be if it were inserted in order.\n",
    "## You may assume no duplicates in the array.\n",
    "\n",
    "## Example 1:\n",
    "## Input: [1,3,5,6], 5\n",
    "## Output: 2\n",
    "\n",
    "def searchInsert(nums, target):\n",
    "    nums = [1,3,5,6]\n",
    "    target = 2\n",
    "\n",
    "    if target in nums:\n",
    "        res = [indx for indx, val in enumerate(nums) if val == target]\n",
    "        return(res[0])\n",
    "    else:\n",
    "        nums.append(target)\n",
    "        nums = sorted(nums)\n",
    "        res = [indx for indx, val in enumerate(nums) if val == target]\n",
    "        return(res[0])\n",
    "\n",
    "nums = [1,3,5,6]\n",
    "target = 5\n",
    "searchInsert(nums, target)"
   ]
  },
  {
   "cell_type": "code",
   "execution_count": 12,
   "metadata": {},
   "outputs": [
    {
     "data": {
      "text/plain": [
       "4"
      ]
     },
     "execution_count": 12,
     "metadata": {},
     "output_type": "execute_result"
    }
   ],
   "source": [
    "##### 69. Sqrt(x)\n",
    "## Implement int sqrt(int x).\n",
    "## Compute and return the square root of x, where x is guaranteed to be a non-negative integer.\n",
    "## Since the return type is an integer, the decimal digits are truncated and only the integer part of the result is returned.\n",
    "\n",
    "## Example 1:\n",
    "## Input: 4\n",
    "## Output: 2\n",
    "\n",
    "import math\n",
    "def mySqrt(x):\n",
    "    return(int(math.sqrt(x)))\n",
    "\n",
    "x = 16\n",
    "mySqrt(x)"
   ]
  },
  {
   "cell_type": "code",
   "execution_count": 38,
   "metadata": {},
   "outputs": [
    {
     "data": {
      "text/plain": [
       "1"
      ]
     },
     "execution_count": 38,
     "metadata": {},
     "output_type": "execute_result"
    }
   ],
   "source": [
    "##### 136. Single Number\n",
    "## Given a non-empty array of integers, every element appears twice except for one. Find that single one.\n",
    "## Note: Your algorithm should have a linear runtime complexity. Could you implement it without using extra memory?\n",
    "\n",
    "## Example 1:\n",
    "## Input: [2,2,1]\n",
    "## Output: 1\n",
    "\n",
    "def singleNumber(nums):\n",
    "    temp = 0\n",
    "    for i in nums:\n",
    "        temp ^= i\n",
    "    return(temp)\n",
    "\n",
    "nums = [2,2,1]\n",
    "singleNumber(nums)"
   ]
  },
  {
   "cell_type": "code",
   "execution_count": 14,
   "metadata": {},
   "outputs": [
    {
     "data": {
      "text/plain": [
       "[1, 2]"
      ]
     },
     "execution_count": 14,
     "metadata": {},
     "output_type": "execute_result"
    }
   ],
   "source": [
    "##### 167. Two Sum II - Input array is sorted\n",
    "\n",
    "## Given an array of integers that is already sorted in ascending order, find two numbers such that they add up to a specific target number.\n",
    "## The function twoSum should return indices of the two numbers such that they add up to the target, where index1 must be less than index2.\n",
    "\n",
    "## Note:\n",
    "## Your returned answers (both index1 and index2) are not zero-based.\n",
    "## You may assume that each input would have exactly one solution and you may not use the same element twice.\n",
    "\n",
    "## Example:\n",
    "## Input: numbers = [2,7,11,15], target = 9\n",
    "## Output: [1,2]\n",
    "## Explanation: The sum of 2 and 7 is 9. Therefore index1 = 1, index2 = 2.\n",
    "\n",
    "def twoSum(numbers, target):\n",
    "    #for i in range(0, len(numbers)):\n",
    "        #for j in range(i+1, len(numbers)):\n",
    "            #if numbers[i] + numbers[j] == target:\n",
    "                #return[i + 1, j + 1]\n",
    "    left, right = 0, len(numbers) - 1\n",
    "    while left < right:\n",
    "        if numbers[left] + numbers[right] == target:\n",
    "            return [left+1, right+1]\n",
    "        elif numbers[left] + numbers[right] < target:\n",
    "            left += 1\n",
    "        else:\n",
    "            right -= 1\n",
    "    return([])\n",
    "\n",
    "numbers = [2,7,11,15]\n",
    "target = 9\n",
    "twoSum(numbers, target)"
   ]
  },
  {
   "cell_type": "code",
   "execution_count": 40,
   "metadata": {},
   "outputs": [
    {
     "data": {
      "text/plain": [
       "3"
      ]
     },
     "execution_count": 40,
     "metadata": {},
     "output_type": "execute_result"
    }
   ],
   "source": [
    "##### 169. Majority Element\n",
    "## Given an array of size n, find the majority element.\n",
    "## The majority element is the element that appears more than ⌊ n/2 ⌋ times.\n",
    "## You may assume that the array is non-empty and the majority element always exist in the array.\n",
    "\n",
    "## Example 1:\n",
    "## Input: [3,2,3]\n",
    "## Output: 3\n",
    "\n",
    "def majorityElement(nums):\n",
    "    count = dict()\n",
    "    for value in nums:\n",
    "        if value in count:\n",
    "            count[value] += 1\n",
    "        else:\n",
    "            count[value] = 1\n",
    "    return(max(count, key = count.get))\n",
    "    \n",
    "#     def majorityElement(self, nums):\n",
    "#         \"\"\"\n",
    "#         :type nums: List[int]\n",
    "#         :rtype: int\n",
    "#         \"\"\"\n",
    "#         nums_set = set(nums)\n",
    "#         nums_appears = []\n",
    "        \n",
    "#         for i in nums_set:\n",
    "#             i_appears = [pos for pos, val in enumerate(nums) if val == i]\n",
    "#             nums_appears.append(len(i_appears))\n",
    "            \n",
    "#         return(list(nums_set)[nums_appears.index(max(nums_appears))])\n",
    "\n",
    "nums = [3,2,3]\n",
    "majorityElement(nums)"
   ]
  },
  {
   "cell_type": "code",
   "execution_count": 20,
   "metadata": {},
   "outputs": [
    {
     "data": {
      "text/plain": [
       "True"
      ]
     },
     "execution_count": 20,
     "metadata": {},
     "output_type": "execute_result"
    }
   ],
   "source": [
    "###### 217. Contains Duplicate\n",
    "## Given an array of integers, find if the array contains any duplicates.\n",
    "## Your function should return true if any value appears at least twice in the array, and it should return false if every element is distinct.\n",
    "\n",
    "## Example 1:\n",
    "## Input: [1,2,3,1]\n",
    "## Output: true\n",
    "\n",
    "def containsDuplicate(nums):\n",
    "    if (len(nums) != 0):\n",
    "        if (len(nums) > len(set(nums))):\n",
    "            return(True)\n",
    "        else:\n",
    "            return(False)\n",
    "    else:\n",
    "        return(False)\n",
    "\n",
    "nums = [1,2,3,1]\n",
    "containsDuplicate(nums)"
   ]
  },
  {
   "cell_type": "code",
   "execution_count": 15,
   "metadata": {},
   "outputs": [
    {
     "data": {
      "text/plain": [
       "[1, 3, 12, 0, 0]"
      ]
     },
     "execution_count": 15,
     "metadata": {},
     "output_type": "execute_result"
    }
   ],
   "source": [
    "###### 283. Move Zeroes\n",
    "##Given an array nums, write a function to move all 0's to the end of it while maintaining the relative order of the non-zero elements.\n",
    "\n",
    "## Example:\n",
    "## Input: [0,1,0,3,12]\n",
    "## Output: [1,3,12,0,0]\n",
    "## Note:\n",
    "## You must do this in-place without making a copy of the array.\n",
    "## Minimize the total number of operations.\n",
    "\n",
    "def moveZeroes(nums):\n",
    "    idx = 0\n",
    "    for i in range(len(nums)):\n",
    "        if nums[i] != 0: \n",
    "            nums[i], nums[idx] = nums[idx], nums[i]\n",
    "            idx += 1\n",
    "    return(nums)\n",
    "\n",
    "nums = [0,1,0,3,12]\n",
    "moveZeroes(nums)"
   ]
  },
  {
   "cell_type": "code",
   "execution_count": 19,
   "metadata": {},
   "outputs": [
    {
     "data": {
      "text/plain": [
       "False"
      ]
     },
     "execution_count": 19,
     "metadata": {},
     "output_type": "execute_result"
    }
   ],
   "source": [
    "###### 342. Power of Four\n",
    "## Given an integer (signed 32 bits), write a function to check whether it is a power of 4.\n",
    "## Example 1:\n",
    "## Input: 16\n",
    "## Output: true\n",
    "\n",
    "## Follow up: Could you solve it without loops/recursion?\n",
    "\n",
    "def isPowerOfFour(num):\n",
    "    while num and not (num & 0b11):\n",
    "        num >>= 2\n",
    "    return(num == 1)\n",
    "\n",
    "num = 8\n",
    "isPowerOfFour(num)"
   ]
  },
  {
   "cell_type": "code",
   "execution_count": 22,
   "metadata": {},
   "outputs": [
    {
     "data": {
      "text/plain": [
       "0"
      ]
     },
     "execution_count": 22,
     "metadata": {},
     "output_type": "execute_result"
    }
   ],
   "source": [
    "###### 231. Power of Two\n",
    "## Given an integer, write a function to determine if it is a power of two.\n",
    "\n",
    "## Example 1:\n",
    "## Input: 1\n",
    "## Output: true \n",
    "\n",
    "def isPowerOfTwo(n):\n",
    "    if (n == 0): \n",
    "        return(False)\n",
    "    # keep dividing the number by two, i.e, do n = n/2 iteratively. \n",
    "    # In any iteration, if n%2 becomes non-zero \n",
    "    # and n is not 1 then n is not a power of 2. \n",
    "    # If n becomes 1 then it is a power of 2.\n",
    "    while (n != 1): \n",
    "        if (n % 2 != 0): \n",
    "            return(False)\n",
    "        n = n // 2\n",
    "    return(True)\n",
    "\n",
    "n = 1\n",
    "isPowerOfTwo(n)"
   ]
  },
  {
   "cell_type": "code",
   "execution_count": 42,
   "metadata": {},
   "outputs": [
    {
     "data": {
      "text/plain": [
       "3"
      ]
     },
     "execution_count": 42,
     "metadata": {},
     "output_type": "execute_result"
    }
   ],
   "source": [
    "##### 371. Sum of Two Integers\n",
    "## Calculate the sum of two integers a and b, but you are not allowed to use the operator + and -.\n",
    "\n",
    "## Example 1:\n",
    "## Input: a = 1, b = 2\n",
    "## Output: 3\n",
    "\n",
    "def getSum(a, b):\n",
    "    return(sum([a, b]))\n",
    "\n",
    "a = 1\n",
    "b = 2\n",
    "getSum(a, b)"
   ]
  },
  {
   "cell_type": "code",
   "execution_count": 43,
   "metadata": {},
   "outputs": [
    {
     "data": {
      "text/plain": [
       "0"
      ]
     },
     "execution_count": 43,
     "metadata": {},
     "output_type": "execute_result"
    }
   ],
   "source": [
    "##### 387. First Unique Character in a String\n",
    "## Given a string, find the first non-repeating character in it and return it's index. \n",
    "## If it doesn't exist, return -1.\n",
    "\n",
    "## Examples:\n",
    "## s = \"leetcode\"\n",
    "## return 0.\n",
    "## s = \"loveleetcode\",\n",
    "## return 2.\n",
    "## Note: You may assume the string contain only lowercase letters.\n",
    "\n",
    "def firstUniqChar(s):\n",
    "    s_appears = dict()\n",
    "    for i in s:\n",
    "        if i in s_appears:\n",
    "            s_appears[i] += 1\n",
    "        else:\n",
    "            s_appears[i] = 1\n",
    "                \n",
    "    s_unique = [i for i in s_appears if s_appears[i] == 1]\n",
    "        \n",
    "    if len(s_unique) > 0:\n",
    "        return(s.index(s_unique[0]))\n",
    "    else:\n",
    "        return(-1)\n",
    "    \n",
    "s = \"leetcode\"\n",
    "firstUniqChar(s)"
   ]
  },
  {
   "cell_type": "code",
   "execution_count": 44,
   "metadata": {},
   "outputs": [
    {
     "data": {
      "text/plain": [
       "'e'"
      ]
     },
     "execution_count": 44,
     "metadata": {},
     "output_type": "execute_result"
    }
   ],
   "source": [
    "##### 389. Find the Difference\n",
    "## Given two strings s and t which consist of only lowercase letters.\n",
    "## String t is generated by random shuffling string s and then add one more letter at a random position.\n",
    "## Find the letter that was added in t.\n",
    "\n",
    "## Example:\n",
    "## Input:\n",
    "## s = \"abcd\"\n",
    "## t = \"abcde\"\n",
    "\n",
    "## Output:\n",
    "## e\n",
    "## Explanation:'e' is the letter that was added.\n",
    "\n",
    "\n",
    "def findTheDifference(s, t):\n",
    "    a = sorted(s)\n",
    "    b = sorted(t)\n",
    "    tot = min(len(a), len(b))\n",
    "\n",
    "    for i in range(tot):\n",
    "        if a[i] != b[i]:\n",
    "            return b[i]\n",
    "            \n",
    "    return b.pop()\n",
    "\n",
    "s = \"abcd\"\n",
    "t = \"abcde\"\n",
    "findTheDifference(s, t)"
   ]
  },
  {
   "cell_type": "code",
   "execution_count": 26,
   "metadata": {},
   "outputs": [
    {
     "data": {
      "text/plain": [
       "5"
      ]
     },
     "execution_count": 26,
     "metadata": {},
     "output_type": "execute_result"
    }
   ],
   "source": [
    "##### 434. Number of Segments in a String\n",
    "\n",
    "## Count the number of segments in a string, where a segment is defined to be a contiguous sequence of non-space characters.\n",
    "## Please note that the string does not contain any non-printable characters.\n",
    "\n",
    "## Example:\n",
    "## Input: \"Hello, my name is John\"\n",
    "## Output: 5\n",
    "\n",
    "def countSegments(s):\n",
    "    s = s.split(\" \")\n",
    "    count = 0\n",
    "    for i in s:\n",
    "        if i != \"\":\n",
    "            count += 1\n",
    "    return(count)\n",
    "\n",
    "s = \"Hello, my name is John\"\n",
    "countSegments(s)"
   ]
  },
  {
   "cell_type": "code",
   "execution_count": 46,
   "metadata": {},
   "outputs": [
    {
     "data": {
      "text/plain": [
       "[-1, 3, -1]"
      ]
     },
     "execution_count": 46,
     "metadata": {},
     "output_type": "execute_result"
    }
   ],
   "source": [
    "##### 496. Next Greater Element I\n",
    "## You are given two arrays (without duplicates) nums1 and nums2 where nums1’s elements are subset of nums2. \n",
    "## Find all the next greater numbers for nums1's elements in the corresponding places of nums2.\n",
    "## The Next Greater Number of a number x in nums1 is the first greater number to its right in nums2. \n",
    "## If it does not exist, output -1 for this number.\n",
    "\n",
    "## Example 1:\n",
    "## Input: nums1 = [4,1,2], nums2 = [1,3,4,2].\n",
    "## Output: [-1,3,-1]\n",
    "## Explanation:\n",
    "    ## For number 4 in the first array, you cannot find the next greater number for it in the second array, so output -1.\n",
    "    ## For number 1 in the first array, the next greater number for it in the second array is 3.\n",
    "    ## For number 2 in the first array, there is no next greater number for it in the second array, so output -1.\n",
    "    \n",
    "def nextGreaterElement(nums1, nums2):\n",
    "    # result = []\n",
    "    # for i in range(len(nums1)):\n",
    "        # for j in range(i, len(nums2)):\n",
    "            # if nums2[j] > nums1[i]:\n",
    "                # result.append(nums2[j] )\n",
    "                # break\n",
    "        # else:\n",
    "            # result.append(-1)               \n",
    "    # return(result)\n",
    "    \n",
    "    ans = []\n",
    "    for i in nums1:\n",
    "        for j in range(len(nums2)):\n",
    "            if nums2[j] == i:\n",
    "                c = j\n",
    "                flag = 1\n",
    "                for k in range(c+1,len(nums2)):\n",
    "                    if nums2[k] > i:\n",
    "                        ans.append(nums2[k])\n",
    "                        flag = 0\n",
    "                        break\n",
    "                if flag == 1:\n",
    "                    ans.append(-1)\n",
    "    return(ans)\n",
    "\n",
    "nums1 = [4,1,2] \n",
    "nums2 = [1,3,4,2]\n",
    "nextGreaterElement(nums1, nums2)"
   ]
  },
  {
   "cell_type": "code",
   "execution_count": 47,
   "metadata": {},
   "outputs": [
    {
     "data": {
      "text/plain": [
       "['Gold Medal', 'Silver Medal', 'Bronze Medal', '4', '5']"
      ]
     },
     "execution_count": 47,
     "metadata": {},
     "output_type": "execute_result"
    }
   ],
   "source": [
    "##### 506. Relative Ranks\n",
    "## Given scores of N athletes, find their relative ranks and the people with the top three highest scores, \n",
    "## who will be awarded medals: \"Gold Medal\", \"Silver Medal\" and \"Bronze Medal\".\n",
    "\n",
    "## Example 1:\n",
    "## Input: [5, 4, 3, 2, 1]\n",
    "## Output: [\"Gold Medal\", \"Silver Medal\", \"Bronze Medal\", \"4\", \"5\"]\n",
    "## Explanation: The first three athletes got the top three highest scores, so they got \"Gold Medal\", \"Silver Medal\" and \"Bronze Medal\". \n",
    "## For the left two athletes, you just need to output their relative ranks according to their scores.\n",
    "## Note:\n",
    "## N is a positive integer and won't exceed 10,000.\n",
    "## All the scores of athletes are guaranteed to be unique.\n",
    "\n",
    "def findRelativeRanks(nums):\n",
    "    \"\"\"\n",
    "    :type nums: List[int]\n",
    "    :rtype: List[str]\n",
    "    \"\"\"\n",
    "    nums_index = {nums[i]:i for i in range(len(nums))}\n",
    "    nums_sorted = sorted(nums, reverse = True)\n",
    "        \n",
    "    medals = [\"Gold Medal\", \"Silver Medal\", \"Bronze Medal\"]\n",
    "        \n",
    "    for i in range(len(nums_sorted)):\n",
    "        if i < 3:\n",
    "            nums[nums_index[nums_sorted[i]]] = medals[i]\n",
    "        else:\n",
    "            nums[nums_index[nums_sorted[i]]] = str(i+1)\n",
    "                \n",
    "    return(nums)\n",
    "\n",
    "nums = [5, 4, 3, 2, 1]\n",
    "findRelativeRanks(nums)"
   ]
  },
  {
   "cell_type": "code",
   "execution_count": 48,
   "metadata": {},
   "outputs": [
    {
     "data": {
      "text/plain": [
       "1"
      ]
     },
     "execution_count": 48,
     "metadata": {},
     "output_type": "execute_result"
    }
   ],
   "source": [
    "##### 509. Fibonacci Number\n",
    "## The Fibonacci numbers, commonly denoted F(n) form a sequence, called the Fibonacci sequence, such that each number is the sum of the two preceding ones, starting from 0 and 1. That is,\n",
    "\n",
    "## F(0) = 0,   F(1) = 1\n",
    "## F(N) = F(N - 1) + F(N - 2), for N > 1.\n",
    "## Given N, calculate F(N).\n",
    "## Example 1:\n",
    "## Input: 2\n",
    "## Output: 1\n",
    "## Explanation: F(2) = F(1) + F(0) = 1 + 0 = 1.\n",
    "\n",
    "def fib(N):\n",
    "    \"\"\"\n",
    "    :type N: int\n",
    "    :rtype: int\n",
    "    \"\"\"\n",
    "    n, a, b = 2, 0, 1\n",
    "    if N <= 1:\n",
    "        return(N)\n",
    "    else:\n",
    "        while n <= N:\n",
    "            a, b = b, a + b\n",
    "            n = n + 1\n",
    "        return(b)\n",
    "\n",
    "N = 2\n",
    "fib(N)"
   ]
  },
  {
   "cell_type": "code",
   "execution_count": 49,
   "metadata": {},
   "outputs": [
    {
     "data": {
      "text/plain": [
       "True"
      ]
     },
     "execution_count": 49,
     "metadata": {},
     "output_type": "execute_result"
    }
   ],
   "source": [
    "##### 520. Detect Capital\n",
    "## Given a word, you need to judge whether the usage of capitals in it is right or not.\n",
    "## We define the usage of capitals in a word to be right when one of the following cases holds:\n",
    "\n",
    "## All letters in this word are capitals, like \"USA\".\n",
    "## All letters in this word are not capitals, like \"leetcode\".\n",
    "## Only the first letter in this word is capital, like \"Google\".\n",
    "## Otherwise, we define that this word doesn't use capitals in a right way.\n",
    " \n",
    "## Example 1:\n",
    "## Input: \"USA\"\n",
    "## Output: True\n",
    "\n",
    "def detectCapitalUse(word):\n",
    "    \"\"\"\n",
    "    :type word: str\n",
    "    :rtype: bool\n",
    "    \"\"\"\n",
    "    if word.islower() or word.isupper():\n",
    "        return(True)\n",
    "    else:\n",
    "        if word[0].isupper() & word[1:len(word)].islower():\n",
    "            return(True)\n",
    "        else:\n",
    "            return(False)\n",
    "word = \"USA\"\n",
    "detectCapitalUse(word)"
   ]
  },
  {
   "cell_type": "code",
   "execution_count": 14,
   "metadata": {},
   "outputs": [],
   "source": [
    "##### 557. Reverse Words in a String III\n",
    "## Given a string, you need to reverse the order of characters in each word within a sentence \n",
    "## while still preserving whitespace and initial word order.\n",
    "\n",
    "## Example 1:\n",
    "## Input: \"Let's take LeetCode contest\"\n",
    "## Output: \"s'teL ekat edoCteeL tsetnoc\"\n",
    "## Note: In the string, each word is separated by single space and there will not be any extra space in the string.\n",
    "\n",
    "def reverseWords(s):\n",
    "    res = \"\"\n",
    "    s = s.split()\n",
    "    for i in s:\n",
    "        res += i[::-1] + \" \"\n",
    "    return(res[0:len(res)-1])\n",
    "\n",
    "s = \"Let's take LeetCode contest\"\n",
    "reverseWords(s)"
   ]
  },
  {
   "cell_type": "code",
   "execution_count": 51,
   "metadata": {},
   "outputs": [
    {
     "data": {
      "text/plain": [
       "'hello'"
      ]
     },
     "execution_count": 51,
     "metadata": {},
     "output_type": "execute_result"
    }
   ],
   "source": [
    "##### 709. To Lower Case\n",
    "## Implement function ToLowerCase() that has a string parameter str, and returns the same string in lowercase.\n",
    "\n",
    "## Example 1:\n",
    "## Input: \"Hello\"\n",
    "## Output: \"hello\"\n",
    "\n",
    "def toLowerCase(str):\n",
    "    \"\"\"\n",
    "    :type str: str\n",
    "    :rtype: str\n",
    "    \"\"\"\n",
    "    return(str.lower())\n",
    "\n",
    "str = \"Hello\"\n",
    "toLowerCase(str)"
   ]
  },
  {
   "cell_type": "code",
   "execution_count": 52,
   "metadata": {},
   "outputs": [
    {
     "data": {
      "text/plain": [
       "3"
      ]
     },
     "execution_count": 52,
     "metadata": {},
     "output_type": "execute_result"
    }
   ],
   "source": [
    "##### 771. Jewels and Stones\n",
    "## You're given strings J representing the types of stones that are jewels, and S representing the stones you have.  Each character in S is a type of stone you have.  You want to know how many of the stones you have are also jewels.\n",
    "## The letters in J are guaranteed distinct, and all characters in J and S are letters. Letters are case sensitive, so \"a\" is considered a different type of stone from \"A\".\n",
    "\n",
    "## Example 1:\n",
    "## Input: J = \"aA\", S = \"aAAbbbb\"\n",
    "## Output: 3\n",
    "\n",
    "def numJewelsInStones(J, S):\n",
    "    \"\"\"\n",
    "    :type J: str\n",
    "    :type S: str\n",
    "    :rtype: int\n",
    "    \"\"\"\n",
    "    \n",
    "    num = 0\n",
    "    for j in J:\n",
    "        num_j = [pos for pos, char in enumerate(S) if char == j]\n",
    "        num += len(num_j)\n",
    "        \n",
    "    return(num)\n",
    "\n",
    "J = \"aA\"\n",
    "S = \"aAAbbbb\"\n",
    "numJewelsInStones(J, S)"
   ]
  },
  {
   "cell_type": "code",
   "execution_count": 63,
   "metadata": {},
   "outputs": [
    {
     "data": {
      "text/plain": [
       "['sour', 'sweet']"
      ]
     },
     "execution_count": 63,
     "metadata": {},
     "output_type": "execute_result"
    }
   ],
   "source": [
    "##### 884. Uncommon Words from Two Sentences\n",
    "\n",
    "## We are given two sentences A and B. \n",
    "## (A sentence is a string of space separated words. Each word consists only of lowercase letters.)\n",
    "## A word is uncommon if it appears exactly once in one of the sentences, and does not appear in the other sentence.\n",
    "## Return a list of all uncommon words. \n",
    "## You may return the list in any order.\n",
    "\n",
    "## Example 1:\n",
    "## Input: A = \"this apple is sweet\", B = \"this apple is sour\"\n",
    "## Output: [\"sweet\",\"sour\"]\n",
    "\n",
    "def uncommonFromSentences(A, B):\n",
    "    A = A.split(\" \")\n",
    "    B = B.split(\" \")\n",
    "\n",
    "    unique = list(set(A + B))\n",
    "    count = {key:[0, 0] for key in unique}\n",
    "    for item in count:\n",
    "        occurs_A = [index for index, val in enumerate(A) if val == item]\n",
    "        count[item][0] = len(occurs_A)\n",
    "        occurs_B = [index for index, val in enumerate(B) if val == item]\n",
    "        count[item][1] = len(occurs_B)\n",
    "\n",
    "    res = []\n",
    "    for item in count:\n",
    "        if sum(count[item]) == 1:\n",
    "            res.append(item)\n",
    "            \n",
    "    return(res)\n",
    "\n",
    "A = \"this apple is sweet\"\n",
    "B = \"this apple is sour\"\n",
    "uncommonFromSentences(A, B)"
   ]
  },
  {
   "cell_type": "code",
   "execution_count": 53,
   "metadata": {},
   "outputs": [
    {
     "data": {
      "text/plain": [
       "2"
      ]
     },
     "execution_count": 53,
     "metadata": {},
     "output_type": "execute_result"
    }
   ],
   "source": [
    "##### 929. Unique Email Addresses\n",
    "## Every email consists of a local name and a domain name, separated by the @ sign.\n",
    "## For example, in alice@leetcode.com, alice is the local name, and leetcode.com is the domain name.\n",
    "## Besides lowercase letters, these emails may contain '.'s or '+'s.\n",
    "## If you add periods ('.') between some characters in the local name part of an email address, mail sent there will be forwarded to the same address without dots in the local name.  For example, \"alice.z@leetcode.com\" and \"alicez@leetcode.com\" forward to the same email address.  (Note that this rule does not apply for domain names.)\n",
    "## If you add a plus ('+') in the local name, everything after the first plus sign will be ignored. This allows certain emails to be filtered, for example m.y+name@email.com will be forwarded to my@email.com.  (Again, this rule does not apply for domain names.)\n",
    "## It is possible to use both of these rules at the same time.\n",
    "\n",
    "## Given a list of emails, we send one email to each address in the list.  \n",
    "## How many different addresses actually receive mails? \n",
    "\n",
    "## Example 1:\n",
    "## Input: [\"test.email+alex@leetcode.com\",\"test.e.mail+bob.cathy@leetcode.com\",\"testemail+david@lee.tcode.com\"]\n",
    "## Output: 2\n",
    "## Explanation: \"testemail@leetcode.com\" and \"testemail@lee.tcode.com\" actually receive mails\n",
    "\n",
    "def numUniqueEmails(emails):\n",
    "    out = {}\n",
    "    for email in emails:\n",
    "        tmp = email.split('@')\n",
    "        local_name = tmp[0].split('+')[0].replace('.', '')\n",
    "        if local_name + '@' + tmp[1] not in out:\n",
    "            out[local_name + '@' + tmp[1]] = 1\n",
    "    return(len(out))  \n",
    "\n",
    "emails = [\"test.email+alex@leetcode.com\",\"test.e.mail+bob.cathy@leetcode.com\",\"testemail+david@lee.tcode.com\"]\n",
    "numUniqueEmails(emails)"
   ]
  },
  {
   "cell_type": "code",
   "execution_count": 1,
   "metadata": {},
   "outputs": [
    {
     "data": {
      "text/plain": [
       "[0, 1, 9, 16, 100]"
      ]
     },
     "execution_count": 1,
     "metadata": {},
     "output_type": "execute_result"
    }
   ],
   "source": [
    "##### 977. Squares of a Sorted Array\n",
    "## Given an array of integers A sorted in non-decreasing order, \n",
    "## return an array of the squares of each number, also in sorted non-decreasing order.\n",
    "\n",
    "## Example 1:\n",
    "## Input: [-4,-1,0,3,10]\n",
    "## Output: [0,1,9,16,100]\n",
    "\n",
    "def sortedSquares(A):\n",
    "    \"\"\"\n",
    "    :type A: List[int]\n",
    "    :rtype: List[int]\n",
    "    \"\"\"\n",
    "    A_squares = [a**2 for a in A]\n",
    "    return(sorted(A_squares))\n",
    "\n",
    "A = [-4,-1,0,3,10]\n",
    "sortedSquares(A)"
   ]
  },
  {
   "cell_type": "code",
   "execution_count": 2,
   "metadata": {},
   "outputs": [],
   "source": [
    "A = [-4,-1,0,3,10]"
   ]
  },
  {
   "cell_type": "code",
   "execution_count": 5,
   "metadata": {},
   "outputs": [
    {
     "data": {
      "text/plain": [
       "[0, 1, 9, 16, 100]"
      ]
     },
     "execution_count": 5,
     "metadata": {},
     "output_type": "execute_result"
    }
   ],
   "source": [
    "A_squares = [a**2 for a in A]\n",
    "sorted(A_squares)"
   ]
  },
  {
   "cell_type": "code",
   "execution_count": 58,
   "metadata": {},
   "outputs": [
    {
     "name": "stdout",
     "output_type": "stream",
     "text": [
      "{'b': 1, 'e': 1, 'l': 2, 'a': 1}\n",
      "{'b': 1, 'e': 1, 'l': 2, 'a': 1}\n"
     ]
    },
    {
     "data": {
      "text/plain": [
       "['e', 'l', 'l']"
      ]
     },
     "execution_count": 58,
     "metadata": {},
     "output_type": "execute_result"
    }
   ],
   "source": [
    "##### 1002. Find Common Characters\n",
    "## Given an array A of strings made only from lowercase letters, \n",
    "## return a list of all characters that show up in all strings within the list (including duplicates).  \n",
    "## For example, if a character occurs 3 times in all strings but not 4 times, \n",
    "## you need to include that character three times in the final answer.\n",
    "## You may return the answer in any order.\n",
    "\n",
    "## Example 1:\n",
    "## Input: [\"bella\",\"label\",\"roller\"]\n",
    "## Output: [\"e\",\"l\",\"l\"]\n",
    "\n",
    "def toDictionary(text):\n",
    "    return({char:(text.count(char)) for char in text})\n",
    "\n",
    "def intersection(left, right):\n",
    "    result = {}\n",
    "    print(left)\n",
    "    for i in left.keys():\n",
    "        if i in right.keys():\n",
    "            result[i] = min(left[i], right[i])\n",
    "    return(result)\n",
    "\n",
    "def commonChars(strings):\n",
    "    dictionary = {}\n",
    "    if len(strings) == 1:\n",
    "        dictionary = toDictionary(strings[0])\n",
    "    else:\n",
    "        dictionary = intersection(toDictionary(strings[0]), toDictionary(strings[1]))\n",
    "        for i in range(2,len(strings)):\n",
    "            dictionary = intersection(dictionary, toDictionary(strings[i]))\n",
    "\n",
    "    result = []\n",
    "    for key in dictionary:\n",
    "        result += key * dictionary[key]\n",
    "\n",
    "    return(result)\n",
    "\n",
    "strings = [\"bella\",\"label\",\"roller\"]\n",
    "commonChars(strings)"
   ]
  },
  {
   "cell_type": "code",
   "execution_count": 59,
   "metadata": {},
   "outputs": [
    {
     "data": {
      "text/plain": [
       "True"
      ]
     },
     "execution_count": 59,
     "metadata": {},
     "output_type": "execute_result"
    }
   ],
   "source": [
    "##### 1025. Divisor Game\n",
    "## Alice and Bob take turns playing a game, with Alice starting first.\n",
    "## Initially, there is a number N on the chalkboard.  On each player's turn, that player makes a move consisting of:\n",
    "\n",
    "## Choosing any x with 0 < x < N and N % x == 0.\n",
    "## Replacing the number N on the chalkboard with N - x.\n",
    "## Also, if a player cannot make a move, they lose the game.\n",
    "## Return True if and only if Alice wins the game, assuming both players play optimally.\n",
    "\n",
    "## Example 1:\n",
    "## Input: 2\n",
    "## Output: true\n",
    "## Explanation: Alice chooses 1, and Bob has no more moves.\n",
    "\n",
    "def divisorGame(N):\n",
    "    return N % 2 == 0\n",
    "\n",
    "N = 2\n",
    "divisorGame(N)"
   ]
  },
  {
   "cell_type": "code",
   "execution_count": 60,
   "metadata": {},
   "outputs": [
    {
     "data": {
      "text/plain": [
       "3"
      ]
     },
     "execution_count": 60,
     "metadata": {},
     "output_type": "execute_result"
    }
   ],
   "source": [
    "##### 1051. Height Checker\n",
    "## Students are asked to stand in non-decreasing order of heights for an annual photo.\n",
    "## Return the minimum number of students not standing in the right positions.  \n",
    "## (This is the number of students that must move in order for all students to be standing in non-decreasing order of height.)\n",
    "\n",
    "## Example 1:\n",
    "## Input: [1,1,4,2,1,3]\n",
    "## Output: 3\n",
    "## Explanation: \n",
    "## Students with heights 4, 3 and the last 1 are not standing in the right positions.\n",
    "\n",
    "def heightChecker(heights):\n",
    "    \"\"\"\n",
    "    :type heights: List[int]\n",
    "    :rtype: int\n",
    "    \"\"\"\n",
    "    heights_new = sorted(heights)\n",
    "    n = 0\n",
    "    for i in range(len(heights)):\n",
    "            if heights_new[i] != heights[i]:\n",
    "                n = n + 1\n",
    "    return(n)\n",
    "\n",
    "heights = [1,1,4,2,1,3]\n",
    "heightChecker(heights)"
   ]
  },
  {
   "cell_type": "code",
   "execution_count": 62,
   "metadata": {},
   "outputs": [
    {
     "data": {
      "text/plain": [
       "[2, 2, 2, 1, 4, 3, 3, 9, 6, 7, 19]"
      ]
     },
     "execution_count": 62,
     "metadata": {},
     "output_type": "execute_result"
    }
   ],
   "source": [
    "##### 1122. Relative Sort Array\n",
    "## Given two arrays arr1 and arr2, the elements of arr2 are distinct, and all elements in arr2 are also in arr1.\n",
    "## Sort the elements of arr1 such that the relative ordering of items in arr1 are the same as in arr2.  \n",
    "## Elements that don't appear in arr2 should be placed at the end of arr1 in ascending order. \n",
    "\n",
    "## Example 1:\n",
    "## Input: arr1 = [2,3,1,3,2,4,6,7,9,2,19], arr2 = [2,1,4,3,9,6]\n",
    "## Output: [2,2,2,1,4,3,3,9,6,7,19]\n",
    "\n",
    "def relativeSortArray(arr1, arr2):\n",
    "    result = []\n",
    "    for i in arr2:\n",
    "        i_same = [x for x in arr1 if x == i]\n",
    "        result += i_same\n",
    "            \n",
    "    arr2_left = sorted([x for x in arr1 if x not in result])\n",
    "        \n",
    "    return(result + arr2_left)\n",
    "\n",
    "arr1 = [2,3,1,3,2,4,6,7,9,2,19]\n",
    "arr2 = [2,1,4,3,9,6]\n",
    "relativeSortArray(arr1, arr2)"
   ]
  },
  {
   "cell_type": "code",
   "execution_count": 64,
   "metadata": {},
   "outputs": [
    {
     "data": {
      "text/plain": [
       "9"
      ]
     },
     "execution_count": 64,
     "metadata": {},
     "output_type": "execute_result"
    }
   ],
   "source": [
    "##### 1154. Day of the Year\n",
    "## Given a string date representing a Gregorian calendar date formatted as YYYY-MM-DD, \n",
    "## return the day number of the year.\n",
    "\n",
    "## Example 1:\n",
    "## Input: date = \"2019-01-09\"\n",
    "## Output: 9\n",
    "## Explanation: Given date is the 9th day of the year in 2019.\n",
    "\n",
    "days = [0, 31, 28, 31, 30, 31, 30, 31, 31, 30, 31, 30, 31]\n",
    "def dayOfYear(date):\n",
    "    y, m, d = [int(x) for x in date.split('-')]\n",
    "    days[2] = 29 if (y % 400 == 0 or (y % 4 == 0 and y % 100 != 0)) else 28\n",
    "    return(sum(days[:m]) + d) \n",
    "\n",
    "date = \"2019-01-09\"\n",
    "dayOfYear(date)"
   ]
  },
  {
   "cell_type": "code",
   "execution_count": 66,
   "metadata": {},
   "outputs": [
    {
     "data": {
      "text/plain": [
       "6"
      ]
     },
     "execution_count": 66,
     "metadata": {},
     "output_type": "execute_result"
    }
   ],
   "source": [
    "##### 1160. Find Words That Can Be Formed by Characters\n",
    "## You are given an array of strings words and a string chars.\n",
    "## A string is good if it can be formed by characters from chars (each character can only be used once).\n",
    "## Return the sum of lengths of all good strings in words.\n",
    "\n",
    "## Example 1:\n",
    "## Input: words = [\"cat\",\"bt\",\"hat\",\"tree\"], chars = \"atach\"\n",
    "## Output: 6\n",
    "## Explanation: The strings that can be formed are \"cat\" and \"hat\" so the answer is 3 + 3 = 6.\n",
    "\n",
    "from collections import Counter\n",
    "def countCharacters(words, chars):\n",
    "    res = 0\n",
    "    chars_freq = Counter(chars)\n",
    "    for word in words:\n",
    "        word_freq = Counter(word)\n",
    "        trues = []\n",
    "        for letter in list(set(word)):\n",
    "            if word_freq[letter] <= chars_freq[letter]:\n",
    "                trues.append(\"true\")            \n",
    "        if len(trues) == len(set(word)):\n",
    "            res += len(word)\n",
    "                \n",
    "    return(res)\n",
    "\n",
    "words = [\"cat\",\"bt\",\"hat\",\"tree\"]\n",
    "chars = \"atach\"\n",
    "countCharacters(words, chars)"
   ]
  },
  {
   "cell_type": "code",
   "execution_count": 25,
   "metadata": {},
   "outputs": [
    {
     "data": {
      "text/plain": [
       "[[1, 2], [2, 3], [3, 4]]"
      ]
     },
     "execution_count": 25,
     "metadata": {},
     "output_type": "execute_result"
    }
   ],
   "source": [
    "##### 1200. Minimum Absolute Difference\n",
    "## Given an array of distinct integers arr, find all pairs of elements with the minimum absolute difference of any two elements. \n",
    "## Return a list of pairs in ascending order(with respect to pairs), each pair [a, b] follows\n",
    "\n",
    "## a, b are from arr\n",
    "## a < b\n",
    "## b - a equals to the minimum absolute difference of any two elements in arr\n",
    " \n",
    "## Example 1:\n",
    "## Input: arr = [4,2,1,3]\n",
    "## Output: [[1,2],[2,3],[3,4]]\n",
    "## Explanation: The minimum absolute difference is 1. List all pairs with difference equal to 1 in ascending order.\n",
    "\n",
    "def minimumAbsDifference(arr):\n",
    "        # comb = combinations(arr, 2)\n",
    "        # comb_list = []\n",
    "        # diff = []\n",
    "        # for item in list(comb): \n",
    "            # diff.append(abs(item[0]-item[1]))\n",
    "            # comb_list.append(list(item))\n",
    "    \n",
    "        # indices = [i for i, x in enumerate(diff) if x == min(diff)]\n",
    "    \n",
    "        # res = [sorted(comb_list[i]) for i in indices]\n",
    "        # for index in indices:\n",
    "            # res.append(sorted(comb_list[index]))\n",
    "    \n",
    "        # return(sorted(res))\n",
    "        arr = sorted(arr)\n",
    "        min_diff = min([abs(x-y) for x, y in zip(arr, arr[1:])])\n",
    "        return [[x,y] for x, y in zip(arr, arr[1:]) if abs(x-y) == min_diff]\n",
    "    \n",
    "arr = [4,2,1,3]\n",
    "minimumAbsDifference(arr)"
   ]
  },
  {
   "cell_type": "code",
   "execution_count": null,
   "metadata": {},
   "outputs": [],
   "source": []
  }
 ],
 "metadata": {
  "kernelspec": {
   "display_name": "Python 3",
   "language": "python",
   "name": "python3"
  },
  "language_info": {
   "codemirror_mode": {
    "name": "ipython",
    "version": 3
   },
   "file_extension": ".py",
   "mimetype": "text/x-python",
   "name": "python",
   "nbconvert_exporter": "python",
   "pygments_lexer": "ipython3",
   "version": "3.7.3"
  }
 },
 "nbformat": 4,
 "nbformat_minor": 2
}
