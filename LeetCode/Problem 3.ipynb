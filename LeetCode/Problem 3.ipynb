{
 "cells": [
  {
   "cell_type": "code",
   "execution_count": null,
   "metadata": {},
   "outputs": [],
   "source": [
    "##### 9. Palindrome Number\n",
    "## Determine whether an integer is a palindrome. \n",
    "## An integer is a palindrome when it reads the same backward as forward.\n",
    "\n",
    "## Example 1:\n",
    "## Input: 121\n",
    "## Output: true\n",
    "\n",
    "def isPalindrome(x):\n",
    "    if x >= 0:\n",
    "        if str(x)[::-1] == str(x):\n",
    "            return(True)\n",
    "        else:\n",
    "            return(False)           \n",
    "    else:\n",
    "        return(False)\n",
    "    \n",
    "x = 121\n",
    "isPalindrome(x)"
   ]
  }
 ],
 "metadata": {
  "kernelspec": {
   "display_name": "Python 3",
   "language": "python",
   "name": "python3"
  },
  "language_info": {
   "codemirror_mode": {
    "name": "ipython",
    "version": 3
   },
   "file_extension": ".py",
   "mimetype": "text/x-python",
   "name": "python",
   "nbconvert_exporter": "python",
   "pygments_lexer": "ipython3",
   "version": "3.7.3"
  }
 },
 "nbformat": 4,
 "nbformat_minor": 2
}
