{
 "cells": [
  {
   "cell_type": "code",
   "execution_count": null,
   "metadata": {},
   "outputs": [],
   "source": [
    "##### 7. Reverse Integer\n",
    "## Given a 32-bit signed integer, reverse digits of an integer.\n",
    "\n",
    "## Example 1:\n",
    "## Input: 123\n",
    "## Output: 321\n",
    "\n",
    "def reverse(x):\n",
    "    def is_valid(num):\n",
    "        return -1 * 2**31 <= num <= 2**31 - 1\n",
    "    \n",
    "    is_negative = x < 0\n",
    "    x = abs(x)\n",
    "        \n",
    "    res = 0\n",
    "    while x:\n",
    "        x, remainder = divmod(x, 10)\n",
    "        res = 10 * res + remainder\n",
    "        \n",
    "    res = -1 * res if is_negative else res\n",
    "        \n",
    "    return(res if is_valid(res) else 0)\n",
    "\n",
    "x = 123\n",
    "reverse(x)"
   ]
  }
 ],
 "metadata": {
  "kernelspec": {
   "display_name": "Python 3",
   "language": "python",
   "name": "python3"
  },
  "language_info": {
   "codemirror_mode": {
    "name": "ipython",
    "version": 3
   },
   "file_extension": ".py",
   "mimetype": "text/x-python",
   "name": "python",
   "nbconvert_exporter": "python",
   "pygments_lexer": "ipython3",
   "version": "3.7.3"
  }
 },
 "nbformat": 4,
 "nbformat_minor": 2
}
