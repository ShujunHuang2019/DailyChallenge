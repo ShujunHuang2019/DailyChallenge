{
 "cells": [
  {
   "cell_type": "code",
   "execution_count": null,
   "metadata": {},
   "outputs": [],
   "source": [
    "##### 11. Container With Most Water\n",
    "## Medium\n",
    "\n",
    "## Given n non-negative integers a1, a2, ..., an , \n",
    "## where each represents a point at coordinate (i, ai). \n",
    "## n vertical lines are drawn such that the two endpoints of line i is at (i, ai) and (i, 0). \n",
    "## Find two lines, which together with x-axis forms a container, such that the container contains the most water.\n",
    "## Note: You may not slant the container and n is at least 2.\n",
    "\n",
    "## Example:\n",
    "## Input: [1,8,6,2,5,4,8,3,7]\n",
    "## Output: 49\n",
    "\n",
    "def maxArea(height):\n",
    "    start = 0\n",
    "    end = len(height) - 1\n",
    "    max_area = 0\n",
    "\n",
    "    while start < end:\n",
    "        width = end - start\n",
    "        length = min(height[start], height[end])\n",
    "        area = width * length\n",
    "    \n",
    "        if area > max_area:\n",
    "            max_area = area\n",
    "        \n",
    "        if height[start] > height[end]:\n",
    "            end -= 1\n",
    "        else:\n",
    "            start += 1\n",
    "    return(max_area)\n",
    "\n",
    "height = [1,8,6,2,5,4,8,3,7]\n",
    "maxArea(height)"
   ]
  }
 ],
 "metadata": {
  "kernelspec": {
   "display_name": "Python 3",
   "language": "python",
   "name": "python3"
  },
  "language_info": {
   "codemirror_mode": {
    "name": "ipython",
    "version": 3
   },
   "file_extension": ".py",
   "mimetype": "text/x-python",
   "name": "python",
   "nbconvert_exporter": "python",
   "pygments_lexer": "ipython3",
   "version": "3.7.3"
  }
 },
 "nbformat": 4,
 "nbformat_minor": 2
}
