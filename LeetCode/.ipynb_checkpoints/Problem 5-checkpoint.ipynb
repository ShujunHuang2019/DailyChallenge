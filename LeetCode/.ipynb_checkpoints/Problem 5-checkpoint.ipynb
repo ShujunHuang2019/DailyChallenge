{
 "cells": [
  {
   "cell_type": "code",
   "execution_count": null,
   "metadata": {},
   "outputs": [],
   "source": [
    "##### 14. Longest Common Prefix\n",
    "## Write a function to find the longest common prefix string amongst an array of strings.\n",
    "## If there is no common prefix, return an empty string \"\".\n",
    "\n",
    "## Example 1:\n",
    "## Input: [\"flower\",\"flow\",\"flight\"]\n",
    "## Output: \"fl\"\n",
    "\n",
    "def longestCommonPrefix(strs):\n",
    "    if len(strs) == 0:\n",
    "        return(\"\")\n",
    "        \n",
    "    min_len = min([len(x) for x in strs])\n",
    "    res = \"\"\n",
    "    for i in range(min_len):\n",
    "        com = []\n",
    "        for j in strs:\n",
    "            com.append(j[i])\n",
    "        if len(set(com)) == 1:\n",
    "            res += com[0]\n",
    "        else:\n",
    "            break\n",
    "    return(res)\n",
    "\n",
    "strs = [\"flower\",\"flow\",\"flight\"]\n",
    "longestCommonPrefix(strs)\n"
   ]
  }
 ],
 "metadata": {
  "kernelspec": {
   "display_name": "Python 3",
   "language": "python",
   "name": "python3"
  },
  "language_info": {
   "codemirror_mode": {
    "name": "ipython",
    "version": 3
   },
   "file_extension": ".py",
   "mimetype": "text/x-python",
   "name": "python",
   "nbconvert_exporter": "python",
   "pygments_lexer": "ipython3",
   "version": "3.7.3"
  }
 },
 "nbformat": 4,
 "nbformat_minor": 2
}
