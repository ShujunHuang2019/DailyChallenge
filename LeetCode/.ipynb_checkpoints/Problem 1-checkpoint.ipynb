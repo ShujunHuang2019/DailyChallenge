{
 "cells": [
  {
   "cell_type": "code",
   "execution_count": null,
   "metadata": {},
   "outputs": [],
   "source": [
    "##### 1. Two Sum\n",
    "## Given an array of integers, return indices of the two numbers such that they add up to a specific target.\n",
    "## You may assume that each input would have exactly one solution, and you may not use the same element twice.\n",
    "\n",
    "## Example:\n",
    "## Given nums = [2, 7, 11, 15], target = 9,\n",
    "## Because nums[0] + nums[1] = 2 + 7 = 9, return [0, 1].\n",
    "\n",
    "def twoSum(nums, target):\n",
    "    for index1 in range(len(nums)):\n",
    "        for index2 in range(index1 + 1, len(nums)):\n",
    "            if nums[index1] + nums[index2] == target:\n",
    "                return[index1, index2]\n",
    "            \n",
    "nums = [2, 7, 11, 15]\n",
    "target = 9\n",
    "twoSum(nums, target)"
   ]
  }
 ],
 "metadata": {
  "kernelspec": {
   "display_name": "Python 3",
   "language": "python",
   "name": "python3"
  },
  "language_info": {
   "codemirror_mode": {
    "name": "ipython",
    "version": 3
   },
   "file_extension": ".py",
   "mimetype": "text/x-python",
   "name": "python",
   "nbconvert_exporter": "python",
   "pygments_lexer": "ipython3",
   "version": "3.7.3"
  }
 },
 "nbformat": 4,
 "nbformat_minor": 2
}
